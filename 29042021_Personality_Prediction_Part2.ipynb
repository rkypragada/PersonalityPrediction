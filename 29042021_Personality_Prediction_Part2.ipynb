{
 "cells": [
  {
   "cell_type": "code",
   "execution_count": null,
   "metadata": {
    "colab": {
     "base_uri": "https://localhost:8080/"
    },
    "id": "8wQn4h4f3vbt",
    "outputId": "9086a131-4c7a-4c0d-8807-0931954ff7a8"
   },
   "outputs": [
    {
     "name": "stderr",
     "output_type": "stream",
     "text": [
      "/usr/local/lib/python3.7/dist-packages/sklearn/externals/six.py:31: FutureWarning: The module is deprecated in version 0.21 and will be removed in version 0.23 since we've dropped support for Python 2.7. Please rely on the official version of six (https://pypi.org/project/six/).\n",
      "  \"(https://pypi.org/project/six/).\", FutureWarning)\n",
      "/usr/local/lib/python3.7/dist-packages/sklearn/utils/deprecation.py:144: FutureWarning: The sklearn.neighbors.base module is  deprecated in version 0.22 and will be removed in version 0.24. The corresponding classes / functions should instead be imported from sklearn.neighbors. Anything that cannot be imported from sklearn.neighbors is now part of the private API.\n",
      "  warnings.warn(message, FutureWarning)\n",
      "/usr/local/lib/python3.7/dist-packages/sklearn/utils/deprecation.py:144: FutureWarning: The sklearn.ensemble.bagging module is  deprecated in version 0.22 and will be removed in version 0.24. The corresponding classes / functions should instead be imported from sklearn.ensemble. Anything that cannot be imported from sklearn.ensemble is now part of the private API.\n",
      "  warnings.warn(message, FutureWarning)\n",
      "/usr/local/lib/python3.7/dist-packages/sklearn/utils/deprecation.py:144: FutureWarning: The sklearn.ensemble.base module is  deprecated in version 0.22 and will be removed in version 0.24. The corresponding classes / functions should instead be imported from sklearn.ensemble. Anything that cannot be imported from sklearn.ensemble is now part of the private API.\n",
      "  warnings.warn(message, FutureWarning)\n",
      "/usr/local/lib/python3.7/dist-packages/sklearn/utils/deprecation.py:144: FutureWarning: The sklearn.ensemble.forest module is  deprecated in version 0.22 and will be removed in version 0.24. The corresponding classes / functions should instead be imported from sklearn.ensemble. Anything that cannot be imported from sklearn.ensemble is now part of the private API.\n",
      "  warnings.warn(message, FutureWarning)\n",
      "/usr/local/lib/python3.7/dist-packages/sklearn/externals/joblib/__init__.py:15: FutureWarning: sklearn.externals.joblib is deprecated in 0.21 and will be removed in 0.23. Please import this functionality directly from joblib, which can be installed with: pip install joblib. If this warning is raised when loading pickled models, you may need to re-serialize those models with scikit-learn 0.21+.\n",
      "  warnings.warn(msg, category=FutureWarning)\n"
     ]
    }
   ],
   "source": [
    "import pandas as pd\n",
    "pd.set_option('max_columns', 500) \n",
    "pd.set_option('max_rows', 500) \n",
    "pd.set_option('display.max_colwidth', 300)\n",
    "pd.options.display.float_format = \"{:,.3f}\".format\n",
    "\n",
    "import numpy as np\n",
    "\n",
    "import matplotlib.pyplot as plt\n",
    "from matplotlib.lines import Line2D\n",
    "%matplotlib inline\n",
    "import seaborn as sns\n",
    "sns.set_style('darkgrid')\n",
    "\n",
    "import requests\n",
    "import time\n",
    "import random\n",
    "\n",
    "from collections import Counter\n",
    "from bs4 import BeautifulSoup\n",
    "\n",
    "\n",
    "import regex as re\n",
    "\n",
    "import nltk\n",
    "\n",
    "from nltk.corpus import stopwords\n",
    "\n",
    "\n",
    "from nltk.stem import WordNetLemmatizer\n",
    "\n",
    "from nltk.tokenize import RegexpTokenizer\n",
    "from nltk.stem.porter import PorterStemmer\n",
    "from nltk.stem.snowball import SnowballStemmer\n",
    "from nltk.util import ngrams\n",
    "\n",
    "import string\n",
    "import spacy\n",
    "from spacy.lang.en.stop_words import STOP_WORDS\n",
    "from spacy.lang.en import English\n",
    "\n",
    "import gensim, spacy, logging, warnings\n",
    "import gensim.corpora as corpora\n",
    "from gensim.utils import lemmatize, simple_preprocess\n",
    "from gensim.models import CoherenceModel\n",
    "from gensim.models.doc2vec import TaggedDocument\n",
    "\n",
    "from os import path\n",
    "from PIL import Image\n",
    "from wordcloud import WordCloud, STOPWORDS, ImageColorGenerator\n",
    "\n",
    "from sklearn.feature_extraction.text import CountVectorizer, TfidfVectorizer, HashingVectorizer\n",
    "from sklearn import utils\n",
    "\n",
    "from sklearn.model_selection import train_test_split, GridSearchCV, RandomizedSearchCV\n",
    "\n",
    "from sklearn.linear_model import LogisticRegression\n",
    "from sklearn.neighbors import KNeighborsClassifier\n",
    "from sklearn.naive_bayes import MultinomialNB\n",
    "from sklearn.svm import SVC\n",
    "\n",
    "from imblearn.pipeline import Pipeline\n",
    "from imblearn.over_sampling import SMOTE\n",
    "from imblearn.combine import SMOTETomek\n",
    "from imblearn.ensemble import BalancedRandomForestClassifier\n",
    "from imblearn.over_sampling import ADASYN\n",
    "\n",
    "from sklearn.ensemble import RandomForestClassifier, ExtraTreesClassifier, GradientBoostingClassifier, AdaBoostClassifier, BaggingClassifier\n",
    "from xgboost import XGBClassifier\n",
    "\n",
    "from sklearn.metrics import f1_score, classification_report, accuracy_score, matthews_corrcoef, roc_curve\n",
    "from sklearn.metrics import plot_confusion_matrix, confusion_matrix, ConfusionMatrixDisplay\n",
    "from sklearn.metrics import plot_roc_curve, auc, roc_auc_score, RocCurveDisplay"
   ]
  },
  {
   "cell_type": "code",
   "execution_count": null,
   "metadata": {
    "id": "yf_Ojt9C4Z9x"
   },
   "outputs": [],
   "source": [
    "df = pd.read_csv('/content/drive/MyDrive/mbti_cleaned.csv')"
   ]
  },
  {
   "cell_type": "code",
   "execution_count": null,
   "metadata": {
    "colab": {
     "base_uri": "https://localhost:8080/"
    },
    "id": "y9REJ_vn4t3A",
    "outputId": "23e2be65-641e-4d56-eff0-5f2d31afce15"
   },
   "outputs": [
    {
     "data": {
      "text/plain": [
       "(8675, 15)"
      ]
     },
     "execution_count": 3,
     "metadata": {
      "tags": []
     },
     "output_type": "execute_result"
    }
   ],
   "source": [
    "df.shape"
   ]
  },
  {
   "cell_type": "code",
   "execution_count": null,
   "metadata": {
    "colab": {
     "base_uri": "https://localhost:8080/",
     "height": 1000
    },
    "id": "pcYslryd42b2",
    "outputId": "025b92fd-08e2-4674-aee3-71f7f2eba753"
   },
   "outputs": [
    {
     "data": {
      "text/html": [
       "<div>\n",
       "<style scoped>\n",
       "    .dataframe tbody tr th:only-of-type {\n",
       "        vertical-align: middle;\n",
       "    }\n",
       "\n",
       "    .dataframe tbody tr th {\n",
       "        vertical-align: top;\n",
       "    }\n",
       "\n",
       "    .dataframe thead th {\n",
       "        text-align: right;\n",
       "    }\n",
       "</style>\n",
       "<table border=\"1\" class=\"dataframe\">\n",
       "  <thead>\n",
       "    <tr style=\"text-align: right;\">\n",
       "      <th></th>\n",
       "      <th>Unnamed: 0</th>\n",
       "      <th>type</th>\n",
       "      <th>posts</th>\n",
       "      <th>num_posts</th>\n",
       "      <th>num_http</th>\n",
       "      <th>words_per_comment</th>\n",
       "      <th>nouns_per_commment</th>\n",
       "      <th>verbs_per_comment</th>\n",
       "      <th>adj_per_comment</th>\n",
       "      <th>interject_per_comment</th>\n",
       "      <th>cleaned_str</th>\n",
       "      <th>ie</th>\n",
       "      <th>ns</th>\n",
       "      <th>tf</th>\n",
       "      <th>jp</th>\n",
       "    </tr>\n",
       "  </thead>\n",
       "  <tbody>\n",
       "    <tr>\n",
       "      <th>0</th>\n",
       "      <td>0</td>\n",
       "      <td>INFJ</td>\n",
       "      <td>'http://www.youtube.com/watch?v=qsXHcwe3krw|||http://41.media.tumblr.com/tumblr_lfouy03PMA1qa1rooo1_500.jpg|||enfp and intj moments  https://www.youtube.com/watch?v=iz7lE1g4XM4  sportscenter not top ten plays  https://www.youtube.com/watch?v=uCdfze1etec  pranks|||What has been the most life-chan...</td>\n",
       "      <td>50</td>\n",
       "      <td>24</td>\n",
       "      <td>16.060</td>\n",
       "      <td>2.620</td>\n",
       "      <td>1.520</td>\n",
       "      <td>1.100</td>\n",
       "      <td>0.140</td>\n",
       "      <td>urlstr moments urlstr sportscenter top ten plays urlstr pranks life changing experience life urlstr urlstr repeat today may perc experience immerse last thing friend posted facebook committing suicide next day rest peace urlstr sorry hear distress natural relationship perfection time every momen...</td>\n",
       "      <td>I</td>\n",
       "      <td>N</td>\n",
       "      <td>F</td>\n",
       "      <td>J</td>\n",
       "    </tr>\n",
       "    <tr>\n",
       "      <th>1</th>\n",
       "      <td>1</td>\n",
       "      <td>ENTP</td>\n",
       "      <td>'I'm finding the lack of me in these posts very alarming.|||Sex can be boring if it's in the same position often. For example me and my girlfriend are currently in an environment where we have to creatively use cowgirl and missionary. There isn't enough...|||Giving new meaning to 'Game' theory.|...</td>\n",
       "      <td>50</td>\n",
       "      <td>10</td>\n",
       "      <td>26.820</td>\n",
       "      <td>3.520</td>\n",
       "      <td>3.620</td>\n",
       "      <td>1.760</td>\n",
       "      <td>0.200</td>\n",
       "      <td>finding lack posts alarming sex boring position often example girlfriend currently environment creatively use cowgirl missionary enough giving new meaning game theory hello grin takes converse flirting acknowledge presence return words smooth wordplay cheeky grins lack balance hand eye coordinat...</td>\n",
       "      <td>E</td>\n",
       "      <td>N</td>\n",
       "      <td>T</td>\n",
       "      <td>P</td>\n",
       "    </tr>\n",
       "    <tr>\n",
       "      <th>2</th>\n",
       "      <td>2</td>\n",
       "      <td>INTP</td>\n",
       "      <td>'Good one  _____   https://www.youtube.com/watch?v=fHiGbolFFGw|||Of course, to which I say I know; that's my blessing and my curse.|||Does being absolutely positive that you and your best friend could be an amazing couple count? If so, than yes.   Or it's more I could be madly in love in case I ...</td>\n",
       "      <td>50</td>\n",
       "      <td>5</td>\n",
       "      <td>18.660</td>\n",
       "      <td>3.000</td>\n",
       "      <td>2.540</td>\n",
       "      <td>1.580</td>\n",
       "      <td>0.240</td>\n",
       "      <td>good one urlstr course say know blessing curse absolutely positive best friend could amazing couple count yes could madly love case reconciled feelings thank link called ti si loop stem current topic obsession deadly like stuck thoughts mind wanders circles feels truly terrible noticed peculiar ...</td>\n",
       "      <td>I</td>\n",
       "      <td>N</td>\n",
       "      <td>T</td>\n",
       "      <td>P</td>\n",
       "    </tr>\n",
       "    <tr>\n",
       "      <th>3</th>\n",
       "      <td>3</td>\n",
       "      <td>INTJ</td>\n",
       "      <td>'Dear INTP,   I enjoyed our conversation the other day.  Esoteric gabbing about the nature of the universe and the idea that every rule and social code being arbitrary constructs created...|||Dear ENTJ sub,   Long time no see.  Sincerely, Alpha|||None of them. All other types hurt in deep existe...</td>\n",
       "      <td>50</td>\n",
       "      <td>2</td>\n",
       "      <td>23.520</td>\n",
       "      <td>3.420</td>\n",
       "      <td>3.020</td>\n",
       "      <td>1.720</td>\n",
       "      <td>0.180</td>\n",
       "      <td>dear enjoyed conversation day esoteric gabbing nature universe idea every rule social code arbitrary constructs created dear sub long time see sincerely alpha none types hurt deep existential ways want part probably sliding scale depends individual preferences like everything humanity draco malf...</td>\n",
       "      <td>I</td>\n",
       "      <td>N</td>\n",
       "      <td>T</td>\n",
       "      <td>J</td>\n",
       "    </tr>\n",
       "    <tr>\n",
       "      <th>4</th>\n",
       "      <td>4</td>\n",
       "      <td>ENTJ</td>\n",
       "      <td>'You're fired.|||That's another silly misconception. That approaching is logically is going to be the key to unlocking whatever it is you think you are entitled to.   Nobody wants to be approached with BS...|||But guys... he REALLY wants to go on a super-duper-long-ass vacation. C'mon guys. His ...</td>\n",
       "      <td>50</td>\n",
       "      <td>6</td>\n",
       "      <td>21.880</td>\n",
       "      <td>3.480</td>\n",
       "      <td>2.740</td>\n",
       "      <td>1.800</td>\n",
       "      <td>0.200</td>\n",
       "      <td>fired another silly misconception approaching logically going key unlocking whatever think entitled nobody wants approached bs guys really wants go super duper long ass vacation c mon guys boss listen get even approached logically everything never mind go permanent vacation two months crazy idea...</td>\n",
       "      <td>E</td>\n",
       "      <td>N</td>\n",
       "      <td>T</td>\n",
       "      <td>J</td>\n",
       "    </tr>\n",
       "    <tr>\n",
       "      <th>5</th>\n",
       "      <td>5</td>\n",
       "      <td>INTJ</td>\n",
       "      <td>'18/37 @.@|||Science  is not perfect. No scientist claims that it is, or that scientific  information will not be revised as we discover new things.  Rational  thinking has been very useful to our society....|||INFP- Edgar Allen Poe was an INFP and he's in your siggy.|||People see the obvious Fi...</td>\n",
       "      <td>50</td>\n",
       "      <td>1</td>\n",
       "      <td>31.700</td>\n",
       "      <td>4.460</td>\n",
       "      <td>4.700</td>\n",
       "      <td>2.080</td>\n",
       "      <td>0.140</td>\n",
       "      <td>science perfect scientist claims scientific information revised discover new things rational thinking useful society edgar allen poe siggy people see obvious fi quick put agree ne see compare haku definite flat naruto lets get party started say disproved god merely said found methods disturbing ...</td>\n",
       "      <td>I</td>\n",
       "      <td>N</td>\n",
       "      <td>T</td>\n",
       "      <td>J</td>\n",
       "    </tr>\n",
       "    <tr>\n",
       "      <th>6</th>\n",
       "      <td>6</td>\n",
       "      <td>INFJ</td>\n",
       "      <td>'No, I can't draw on my own nails (haha). Those were done by professionals on my nails. And yes, those are all gel.  You mean those you posted were done by yourself on your own nails? Awesome!|||Probably the Electronic Screen Syndrome. With the advent of technology and social media, we all suffe...</td>\n",
       "      <td>50</td>\n",
       "      <td>2</td>\n",
       "      <td>29.020</td>\n",
       "      <td>4.520</td>\n",
       "      <td>3.980</td>\n",
       "      <td>2.160</td>\n",
       "      <td>0.240</td>\n",
       "      <td>draw nails haha done professionals nails yes gel mean posted done nails awesome probably electronic screen syndrome advent technology social media suffer overstimulation daily basis guilty well past happy love nail arts mine first time hearing menstruation church thanks sharing yeah crazy though...</td>\n",
       "      <td>I</td>\n",
       "      <td>N</td>\n",
       "      <td>F</td>\n",
       "      <td>J</td>\n",
       "    </tr>\n",
       "    <tr>\n",
       "      <th>7</th>\n",
       "      <td>7</td>\n",
       "      <td>INTJ</td>\n",
       "      <td>'I tend to build up a collection of things on my desktop that i use frequently and then move them into a folder called  'Everything' from there it get sorted into type and sub type|||i ike to collect odd objects, even at work...a lot of people would call it junk but i like to collect it.  Old un...</td>\n",
       "      <td>50</td>\n",
       "      <td>1</td>\n",
       "      <td>25.620</td>\n",
       "      <td>3.880</td>\n",
       "      <td>4.340</td>\n",
       "      <td>1.600</td>\n",
       "      <td>0.260</td>\n",
       "      <td>tend build collection things desktop use frequently move folder called everything get sorted type sub type ike collect odd objects even work lot people would call junk like collect old unused software ill take hands bunch old adobe think quite normal tend see friends real life every couple month...</td>\n",
       "      <td>I</td>\n",
       "      <td>N</td>\n",
       "      <td>T</td>\n",
       "      <td>J</td>\n",
       "    </tr>\n",
       "    <tr>\n",
       "      <th>8</th>\n",
       "      <td>8</td>\n",
       "      <td>INFJ</td>\n",
       "      <td>I'm not sure, that's a good question. The distinction between the two is so dependant on perception. To quote Robb Flynn, ''The hate you feel is nothing more, than love you feel to win this war.''|||Good question! It's tough to say for sure but I loved Winona Ryder as Lydia in Beetlejuice...  ht...</td>\n",
       "      <td>50</td>\n",
       "      <td>23</td>\n",
       "      <td>19.320</td>\n",
       "      <td>2.460</td>\n",
       "      <td>2.120</td>\n",
       "      <td>1.380</td>\n",
       "      <td>0.060</td>\n",
       "      <td>sure good question distinction two dependant perception quote robb flynn hate feel nothing love feel win war good question tough say sure loved winona ryder lydia beetlejuice urlstr lonely much time working changing think one way trying find positive everything matter bleak might seem hope look ...</td>\n",
       "      <td>I</td>\n",
       "      <td>N</td>\n",
       "      <td>F</td>\n",
       "      <td>J</td>\n",
       "    </tr>\n",
       "    <tr>\n",
       "      <th>9</th>\n",
       "      <td>9</td>\n",
       "      <td>INTP</td>\n",
       "      <td>'https://www.youtube.com/watch?v=w8-egj0y8Qs|||I'm in this position where I have to actually let go of the person, due to a various reasons. Unfortunately I'm having trouble mustering enough strength to actually pull through it. Sometimes,...|||WHAT A YEAR, MAN. WHAT A YEAR.   I am just utterly ...</td>\n",
       "      <td>50</td>\n",
       "      <td>7</td>\n",
       "      <td>27.360</td>\n",
       "      <td>4.320</td>\n",
       "      <td>3.680</td>\n",
       "      <td>2.060</td>\n",
       "      <td>0.140</td>\n",
       "      <td>urlstr position actually let go person due various reasons unfortunately trouble mustering enough strength actually pull sometimes year man year utterly bewildered point laundry long got clothes left wear fine time comes run left contend mountain laundry pile sent apollo urlstr back office hours...</td>\n",
       "      <td>I</td>\n",
       "      <td>N</td>\n",
       "      <td>T</td>\n",
       "      <td>P</td>\n",
       "    </tr>\n",
       "  </tbody>\n",
       "</table>\n",
       "</div>"
      ],
      "text/plain": [
       "   Unnamed: 0  type  \\\n",
       "0           0  INFJ   \n",
       "1           1  ENTP   \n",
       "2           2  INTP   \n",
       "3           3  INTJ   \n",
       "4           4  ENTJ   \n",
       "5           5  INTJ   \n",
       "6           6  INFJ   \n",
       "7           7  INTJ   \n",
       "8           8  INFJ   \n",
       "9           9  INTP   \n",
       "\n",
       "                                                                                                                                                                                                                                                                                                         posts  \\\n",
       "0  'http://www.youtube.com/watch?v=qsXHcwe3krw|||http://41.media.tumblr.com/tumblr_lfouy03PMA1qa1rooo1_500.jpg|||enfp and intj moments  https://www.youtube.com/watch?v=iz7lE1g4XM4  sportscenter not top ten plays  https://www.youtube.com/watch?v=uCdfze1etec  pranks|||What has been the most life-chan...   \n",
       "1  'I'm finding the lack of me in these posts very alarming.|||Sex can be boring if it's in the same position often. For example me and my girlfriend are currently in an environment where we have to creatively use cowgirl and missionary. There isn't enough...|||Giving new meaning to 'Game' theory.|...   \n",
       "2  'Good one  _____   https://www.youtube.com/watch?v=fHiGbolFFGw|||Of course, to which I say I know; that's my blessing and my curse.|||Does being absolutely positive that you and your best friend could be an amazing couple count? If so, than yes.   Or it's more I could be madly in love in case I ...   \n",
       "3  'Dear INTP,   I enjoyed our conversation the other day.  Esoteric gabbing about the nature of the universe and the idea that every rule and social code being arbitrary constructs created...|||Dear ENTJ sub,   Long time no see.  Sincerely, Alpha|||None of them. All other types hurt in deep existe...   \n",
       "4  'You're fired.|||That's another silly misconception. That approaching is logically is going to be the key to unlocking whatever it is you think you are entitled to.   Nobody wants to be approached with BS...|||But guys... he REALLY wants to go on a super-duper-long-ass vacation. C'mon guys. His ...   \n",
       "5  '18/37 @.@|||Science  is not perfect. No scientist claims that it is, or that scientific  information will not be revised as we discover new things.  Rational  thinking has been very useful to our society....|||INFP- Edgar Allen Poe was an INFP and he's in your siggy.|||People see the obvious Fi...   \n",
       "6  'No, I can't draw on my own nails (haha). Those were done by professionals on my nails. And yes, those are all gel.  You mean those you posted were done by yourself on your own nails? Awesome!|||Probably the Electronic Screen Syndrome. With the advent of technology and social media, we all suffe...   \n",
       "7  'I tend to build up a collection of things on my desktop that i use frequently and then move them into a folder called  'Everything' from there it get sorted into type and sub type|||i ike to collect odd objects, even at work...a lot of people would call it junk but i like to collect it.  Old un...   \n",
       "8  I'm not sure, that's a good question. The distinction between the two is so dependant on perception. To quote Robb Flynn, ''The hate you feel is nothing more, than love you feel to win this war.''|||Good question! It's tough to say for sure but I loved Winona Ryder as Lydia in Beetlejuice...  ht...   \n",
       "9  'https://www.youtube.com/watch?v=w8-egj0y8Qs|||I'm in this position where I have to actually let go of the person, due to a various reasons. Unfortunately I'm having trouble mustering enough strength to actually pull through it. Sometimes,...|||WHAT A YEAR, MAN. WHAT A YEAR.   I am just utterly ...   \n",
       "\n",
       "   num_posts  num_http  words_per_comment  nouns_per_commment  \\\n",
       "0         50        24             16.060               2.620   \n",
       "1         50        10             26.820               3.520   \n",
       "2         50         5             18.660               3.000   \n",
       "3         50         2             23.520               3.420   \n",
       "4         50         6             21.880               3.480   \n",
       "5         50         1             31.700               4.460   \n",
       "6         50         2             29.020               4.520   \n",
       "7         50         1             25.620               3.880   \n",
       "8         50        23             19.320               2.460   \n",
       "9         50         7             27.360               4.320   \n",
       "\n",
       "   verbs_per_comment  adj_per_comment  interject_per_comment  \\\n",
       "0              1.520            1.100                  0.140   \n",
       "1              3.620            1.760                  0.200   \n",
       "2              2.540            1.580                  0.240   \n",
       "3              3.020            1.720                  0.180   \n",
       "4              2.740            1.800                  0.200   \n",
       "5              4.700            2.080                  0.140   \n",
       "6              3.980            2.160                  0.240   \n",
       "7              4.340            1.600                  0.260   \n",
       "8              2.120            1.380                  0.060   \n",
       "9              3.680            2.060                  0.140   \n",
       "\n",
       "                                                                                                                                                                                                                                                                                                   cleaned_str  \\\n",
       "0  urlstr moments urlstr sportscenter top ten plays urlstr pranks life changing experience life urlstr urlstr repeat today may perc experience immerse last thing friend posted facebook committing suicide next day rest peace urlstr sorry hear distress natural relationship perfection time every momen...   \n",
       "1  finding lack posts alarming sex boring position often example girlfriend currently environment creatively use cowgirl missionary enough giving new meaning game theory hello grin takes converse flirting acknowledge presence return words smooth wordplay cheeky grins lack balance hand eye coordinat...   \n",
       "2  good one urlstr course say know blessing curse absolutely positive best friend could amazing couple count yes could madly love case reconciled feelings thank link called ti si loop stem current topic obsession deadly like stuck thoughts mind wanders circles feels truly terrible noticed peculiar ...   \n",
       "3  dear enjoyed conversation day esoteric gabbing nature universe idea every rule social code arbitrary constructs created dear sub long time see sincerely alpha none types hurt deep existential ways want part probably sliding scale depends individual preferences like everything humanity draco malf...   \n",
       "4  fired another silly misconception approaching logically going key unlocking whatever think entitled nobody wants approached bs guys really wants go super duper long ass vacation c mon guys boss listen get even approached logically everything never mind go permanent vacation two months crazy idea...   \n",
       "5  science perfect scientist claims scientific information revised discover new things rational thinking useful society edgar allen poe siggy people see obvious fi quick put agree ne see compare haku definite flat naruto lets get party started say disproved god merely said found methods disturbing ...   \n",
       "6  draw nails haha done professionals nails yes gel mean posted done nails awesome probably electronic screen syndrome advent technology social media suffer overstimulation daily basis guilty well past happy love nail arts mine first time hearing menstruation church thanks sharing yeah crazy though...   \n",
       "7  tend build collection things desktop use frequently move folder called everything get sorted type sub type ike collect odd objects even work lot people would call junk like collect old unused software ill take hands bunch old adobe think quite normal tend see friends real life every couple month...   \n",
       "8  sure good question distinction two dependant perception quote robb flynn hate feel nothing love feel win war good question tough say sure loved winona ryder lydia beetlejuice urlstr lonely much time working changing think one way trying find positive everything matter bleak might seem hope look ...   \n",
       "9  urlstr position actually let go person due various reasons unfortunately trouble mustering enough strength actually pull sometimes year man year utterly bewildered point laundry long got clothes left wear fine time comes run left contend mountain laundry pile sent apollo urlstr back office hours...   \n",
       "\n",
       "  ie ns tf jp  \n",
       "0  I  N  F  J  \n",
       "1  E  N  T  P  \n",
       "2  I  N  T  P  \n",
       "3  I  N  T  J  \n",
       "4  E  N  T  J  \n",
       "5  I  N  T  J  \n",
       "6  I  N  F  J  \n",
       "7  I  N  T  J  \n",
       "8  I  N  F  J  \n",
       "9  I  N  T  P  "
      ]
     },
     "execution_count": 4,
     "metadata": {
      "tags": []
     },
     "output_type": "execute_result"
    }
   ],
   "source": [
    "df.head(10)"
   ]
  },
  {
   "cell_type": "code",
   "execution_count": null,
   "metadata": {
    "id": "oLL2pZdu45D9"
   },
   "outputs": [],
   "source": [
    "df.drop(columns='Unnamed: 0', inplace=True)"
   ]
  },
  {
   "cell_type": "code",
   "execution_count": null,
   "metadata": {
    "colab": {
     "base_uri": "https://localhost:8080/"
    },
    "id": "6QUF0TUV4-aj",
    "outputId": "565eff57-89e0-4433-f696-e3051c371167"
   },
   "outputs": [
    {
     "data": {
      "text/plain": [
       "Index(['type', 'posts', 'num_posts', 'num_http', 'words_per_comment',\n",
       "       'nouns_per_commment', 'verbs_per_comment', 'adj_per_comment',\n",
       "       'interject_per_comment', 'cleaned_str', 'ie', 'ns', 'tf', 'jp'],\n",
       "      dtype='object')"
      ]
     },
     "execution_count": 6,
     "metadata": {
      "tags": []
     },
     "output_type": "execute_result"
    }
   ],
   "source": [
    "df.columns"
   ]
  },
  {
   "cell_type": "code",
   "execution_count": null,
   "metadata": {
    "id": "olRSgr7Y5CWx"
   },
   "outputs": [],
   "source": [
    "X = df['cleaned_str']\n",
    "y = df['type']"
   ]
  },
  {
   "cell_type": "code",
   "execution_count": null,
   "metadata": {
    "id": "-mrVfAci5HEV"
   },
   "outputs": [],
   "source": [
    "X_train, X_val, y_train, y_val = train_test_split(X,y,random_state=42, stratify=y, test_size=0.33)"
   ]
  },
  {
   "cell_type": "code",
   "execution_count": null,
   "metadata": {
    "colab": {
     "base_uri": "https://localhost:8080/"
    },
    "id": "en6eM5ze5RxT",
    "outputId": "de12bfcd-3a5d-4f1d-c6f1-345c8702a110"
   },
   "outputs": [
    {
     "data": {
      "text/plain": [
       "pandas.core.series.Series"
      ]
     },
     "execution_count": 9,
     "metadata": {
      "tags": []
     },
     "output_type": "execute_result"
    }
   ],
   "source": [
    "type(X_train)"
   ]
  },
  {
   "cell_type": "code",
   "execution_count": null,
   "metadata": {
    "colab": {
     "base_uri": "https://localhost:8080/"
    },
    "id": "EprW0NLc5Vrf",
    "outputId": "87b75acb-fcc0-4588-b23a-cc04757ef657"
   },
   "outputs": [
    {
     "data": {
      "text/plain": [
       "(5812,)"
      ]
     },
     "execution_count": 10,
     "metadata": {
      "tags": []
     },
     "output_type": "execute_result"
    }
   ],
   "source": [
    "X_train.shape"
   ]
  },
  {
   "cell_type": "code",
   "execution_count": null,
   "metadata": {
    "colab": {
     "base_uri": "https://localhost:8080/"
    },
    "id": "r3lX8O1u5Zt3",
    "outputId": "d7f9880d-a229-4eef-edab-49ce16c7b29c"
   },
   "outputs": [
    {
     "data": {
      "text/plain": [
       "(2863,)"
      ]
     },
     "execution_count": 11,
     "metadata": {
      "tags": []
     },
     "output_type": "execute_result"
    }
   ],
   "source": [
    "X_val.shape"
   ]
  },
  {
   "cell_type": "code",
   "execution_count": null,
   "metadata": {
    "id": "a9eRenhh5cib"
   },
   "outputs": [],
   "source": [
    "nlp = spacy.load('en_core_web_sm')\n",
    "spacy_stop_words = spacy.lang.en.stop_words.STOP_WORDS\n",
    "\n",
    "type_stopword = [x.lower() for x in df['type'].unique()]\n",
    "type_stopwords = type_stopword + [x + 's' for x in type_stopword]\n",
    "\n",
    "punctuations = string.punctuation\n",
    "\n",
    "parser = English()\n",
    "\n",
    "def spacy_tokenizer(sentence):\n",
    "    \n",
    "    mytokens = parser(sentence)\n",
    "\n",
    "    mytokens = [ word.lemma_.lower().strip() if word.lemma_ != \"-PRON-\" else word.lower_ for word in mytokens ]\n",
    "\n",
    "    mytokens = [ word for word in mytokens if \\\n",
    "                word not in spacy_stop_words and \\\n",
    "                word not in type_stopwords and \\\n",
    "                word not in punctuations ]\n",
    "\n",
    "    return mytokens"
   ]
  },
  {
   "cell_type": "code",
   "execution_count": null,
   "metadata": {
    "colab": {
     "base_uri": "https://localhost:8080/"
    },
    "id": "LdgCSvvl5hMi",
    "outputId": "082f623b-3ae7-4ac1-caec-27f3d04a6844"
   },
   "outputs": [
    {
     "name": "stderr",
     "output_type": "stream",
     "text": [
      "/usr/local/lib/python3.7/dist-packages/sklearn/feature_extraction/text.py:507: UserWarning: The parameter 'token_pattern' will not be used since 'tokenizer' is not None'\n",
      "  warnings.warn(\"The parameter 'token_pattern' will not be used\"\n"
     ]
    },
    {
     "data": {
      "text/plain": [
       "78890"
      ]
     },
     "execution_count": 13,
     "metadata": {
      "tags": []
     },
     "output_type": "execute_result"
    }
   ],
   "source": [
    "tvectotal = TfidfVectorizer(tokenizer=spacy_tokenizer, max_df=0.3).fit(X_train)\n",
    "len(tvectotal.get_feature_names())"
   ]
  },
  {
   "cell_type": "code",
   "execution_count": null,
   "metadata": {
    "id": "a2nQuNDW5sgP"
   },
   "outputs": [],
   "source": [
    "tvec = TfidfVectorizer(tokenizer=spacy_tokenizer, max_features=10000, max_df=0.3)\n",
    "\n",
    "X_train_tvec = tvec.fit_transform(X_train)\n",
    "X_val_tvec = tvec.transform(X_val)"
   ]
  },
  {
   "cell_type": "code",
   "execution_count": null,
   "metadata": {
    "colab": {
     "base_uri": "https://localhost:8080/"
    },
    "id": "rGzH2pgM52LR",
    "outputId": "f02cc64c-fbdd-4537-8d40-111b4e2a1387"
   },
   "outputs": [
    {
     "data": {
      "text/plain": [
       "(5812, 10000)"
      ]
     },
     "execution_count": 15,
     "metadata": {
      "tags": []
     },
     "output_type": "execute_result"
    }
   ],
   "source": [
    "X_train_tvec.shape"
   ]
  },
  {
   "cell_type": "code",
   "execution_count": null,
   "metadata": {
    "colab": {
     "base_uri": "https://localhost:8080/"
    },
    "id": "R0ymMAWo56fc",
    "outputId": "ba80db67-d0ca-4df5-cb57-ecb45e1def70"
   },
   "outputs": [
    {
     "data": {
      "text/plain": [
       "(2863, 10000)"
      ]
     },
     "execution_count": 16,
     "metadata": {
      "tags": []
     },
     "output_type": "execute_result"
    }
   ],
   "source": [
    "X_val_tvec.shape"
   ]
  },
  {
   "cell_type": "code",
   "execution_count": null,
   "metadata": {
    "id": "y6T3EOpO6rpi"
   },
   "outputs": [],
   "source": [
    "def classifiermodel(X_train, y_train, X_test, y_test, model, gs=False, param=False, title=None, label=None):\n",
    "    \n",
    "    \"\"\"\"\n",
    "    Function to fit and display scores of the model, the confusion matrix and AUC ROC\n",
    "    \n",
    "    Take in Arguements:\n",
    "     - X_train, y_train, X_test, y_test - the train test split data\n",
    "     - model - the type of model to fit data\n",
    "     - gs - if the model parsed in is a grid search\n",
    "     - param - If need to print best parameters for pipe steps\n",
    "     - labels - list that model is classification\n",
    "     \n",
    "     Returns the dataframe of the predicted values and actual values\n",
    "    \"\"\"    \n",
    "    model.fit(X_train, y_train)\n",
    "    trgscore = model.score(X_train, y_train)\n",
    "    y_pred = model.predict(X_test)\n",
    "    valscore = model.score(X_test, y_test)\n",
    "    \n",
    "    \n",
    "    if gs:\n",
    "        best_model = model.best_estimator_\n",
    "        best_score = model.best_score_\n",
    "        best_params =  model.best_params_\n",
    "    else:\n",
    "        best_model = model\n",
    "        best_score = trgscore\n",
    "        best_params = model.get_params()\n",
    "        \n",
    "    proba = model.predict_proba(X_test)\n",
    "    proba = proba[:, 1]\n",
    "\n",
    "    print(f'======== {title} =================\\n')\n",
    "    \n",
    "    if param:\n",
    "        print('Best parameters  : ', best_params)\n",
    "        print()\n",
    "    print('Best CV  score   : ', best_score)\n",
    "    print('Training score   :', trgscore)\n",
    "    print('Validation score :', valscore)\n",
    "    print('Accuracy         :', accuracy_score(y_pred, y_test))\n",
    "    print('MCC Score        :', matthews_corrcoef(y_pred, y_test))\n",
    "    print()\n",
    "    print(classification_report(y_test, y_pred, target_names=label))\n",
    "        \n",
    "    return y_pred, proba\n"
   ]
  },
  {
   "cell_type": "code",
   "execution_count": null,
   "metadata": {
    "id": "QPuTQXyX61Ts"
   },
   "outputs": [],
   "source": [
    "def model_metrics(true, pred, prob, cm=False, show_df=False, title = 'Model_Metrics'):\n",
    "    \"\"\"\n",
    "    Function that calculates and returns a dataframe with classification metrics.\n",
    "    Input\n",
    "    true: true values of target variable\n",
    "    pred: predicted values of target variable\n",
    "    prob: probability of positive class \n",
    "    cm: confusion matrix will be plot if == True\n",
    "    show_df: dataframe with metrics will be displayed if == True\n",
    "    title: the column name for the dataframe that is displayed/returned\n",
    "    labels: the negative and positive class labels \n",
    "    \n",
    "    Output\n",
    "    df: dataframe with classification metrics\n",
    "    \n",
    "    \"\"\"        \n",
    "        \n",
    "    df = pd.DataFrame(data = [accuracy_score(pred, true),\n",
    "                              1- accuracy_score(pred, true),\n",
    "                              f1_score(true, pred, average='macro'),\n",
    "                              f1_score(true, pred, average='weighted'),\n",
    "                              matthews_corrcoef(true, pred)],\n",
    "                         index = ['Accuracy',\n",
    "                                  'Misclassification Rate',\n",
    "                                  'F1-Score Macro',\n",
    "                                  'F1-Score Weighted',\n",
    "                                  'Matthews Correlation'],\n",
    "                        columns = [title])\n",
    "    if show_df:\n",
    "        display(df)\n",
    "    return(df)"
   ]
  },
  {
   "cell_type": "code",
   "execution_count": null,
   "metadata": {
    "id": "ESXTAxKp66lh"
   },
   "outputs": [],
   "source": [
    "def plot_impt_features(features_df, title, top_feat=20):\n",
    "    \n",
    "    \"\"\"\n",
    "    Function that plots the important features_df.\n",
    "    \n",
    "    Takes in arguements:\n",
    "    features _df: the list of features that had the coefficient \n",
    "    title: the title of the graph\n",
    "    top_feat: the number of top features to plot\n",
    "    \n",
    "    Output\n",
    "    Plots the graph of important features\n",
    "    \n",
    "    \"\"\"   \n",
    "    plt.figure(figsize=(12,6))\n",
    "    sns.barplot(x = features_df['feature_importance'][:top_feat], y = features_df['feature'][:top_feat], color='b')\n",
    "    plt.title(title, fontsize=18)\n",
    "    plt.xlabel('Feature importance', fontsize=14)\n",
    "    plt.xticks(size=13)\n",
    "    plt.ylabel(None)\n",
    "    plt.yticks(size=13);"
   ]
  },
  {
   "cell_type": "code",
   "execution_count": null,
   "metadata": {
    "id": "7lu_v4Tj6-zA"
   },
   "outputs": [],
   "source": [
    "def show_most_informative_features(vectorizer, clf, n=20):\n",
    "    \n",
    "    \"\"\"\n",
    "    Function that shows the n most informative features.\n",
    "    \n",
    "    Takes in arguements:\n",
    "    vectorizer: vectorize in which we get our word volcabulary\n",
    "    clf: the mdel which the vector is being fed into\n",
    "    n: the number of +ve and -ve coeff to plot\n",
    "    \n",
    "    Output\n",
    "    Dataframe of positive and negative coeff\n",
    "    \n",
    "    \"\"\"   \n",
    "    \n",
    "    \n",
    "    feature_names = vectorizer.get_feature_names()\n",
    "    \n",
    "    coefs_with_fns = sorted(zip(clf.coef_[0], feature_names))\n",
    "    \n",
    "    top_pos = coefs_with_fns[:-(n + 1):-1]\n",
    "    top_neg = coefs_with_fns[:n]\n",
    " \n",
    "    show_posfeat = pd.DataFrame(top_pos, columns=['positive_coeff', 'pos_feature'])\n",
    "    show_negfeat = pd.DataFrame(top_neg, columns=['negative_coeff', 'neg_feature'])\n",
    "    show_feat = show_posfeat.join(show_negfeat)\n",
    "    \n",
    "    display(show_feat)"
   ]
  },
  {
   "cell_type": "code",
   "execution_count": null,
   "metadata": {
    "id": "3e0kCl4l7FgR"
   },
   "outputs": [],
   "source": [
    "cv = 5\n",
    "n_jobs = -1"
   ]
  },
  {
   "cell_type": "code",
   "execution_count": null,
   "metadata": {
    "colab": {
     "base_uri": "https://localhost:8080/"
    },
    "id": "FDzBxwir7ItZ",
    "outputId": "a6c2fb18-0892-46c8-9dbc-81bba3aa610f"
   },
   "outputs": [
    {
     "data": {
      "text/plain": [
       "INFP   0.211\n",
       "INFJ   0.169\n",
       "INTP   0.150\n",
       "INTJ   0.126\n",
       "ENTP   0.079\n",
       "ENFP   0.078\n",
       "ISTP   0.039\n",
       "ISFP   0.031\n",
       "ENTJ   0.027\n",
       "ISTJ   0.024\n",
       "ENFJ   0.022\n",
       "ISFJ   0.019\n",
       "ESTP   0.010\n",
       "ESFP   0.006\n",
       "ESFJ   0.005\n",
       "ESTJ   0.004\n",
       "Name: type, dtype: float64"
      ]
     },
     "execution_count": 22,
     "metadata": {
      "tags": []
     },
     "output_type": "execute_result"
    }
   ],
   "source": [
    "df['type'].value_counts(normalize=True)"
   ]
  },
  {
   "cell_type": "code",
   "execution_count": null,
   "metadata": {
    "id": "bGJtWy3K7L6d"
   },
   "outputs": [],
   "source": [
    "lr_pipe = Pipeline([('smt', SMOTETomek(random_state = 42)), \n",
    "                    ('lr', LogisticRegression(random_state = 42, max_iter=1000))])\n",
    "\n",
    "lr_param_grid = {'lr__solver': ['liblinear'],\n",
    "                 'lr__C':[1.0], #, 0.1]\n",
    "                 'lr__penalty':['l1']}\n",
    "    \n",
    "lr_gs = GridSearchCV(lr_pipe, param_grid=lr_param_grid, cv=cv, n_jobs=n_jobs, verbose=1)"
   ]
  },
  {
   "cell_type": "code",
   "execution_count": null,
   "metadata": {
    "colab": {
     "base_uri": "https://localhost:8080/"
    },
    "id": "_lnby5Il7S5B",
    "outputId": "e04b4109-4e4e-44e4-941e-bc4cac805bc1"
   },
   "outputs": [
    {
     "name": "stdout",
     "output_type": "stream",
     "text": [
      "Fitting 5 folds for each of 1 candidates, totalling 5 fits\n"
     ]
    },
    {
     "name": "stderr",
     "output_type": "stream",
     "text": [
      "[Parallel(n_jobs=-1)]: Using backend LokyBackend with 2 concurrent workers.\n",
      "[Parallel(n_jobs=-1)]: Done   5 out of   5 | elapsed:  8.6min finished\n",
      "/usr/local/lib/python3.7/dist-packages/sklearn/utils/deprecation.py:87: FutureWarning: Function safe_indexing is deprecated; safe_indexing is deprecated in version 0.22 and will be removed in version 0.24.\n",
      "  warnings.warn(msg, category=FutureWarning)\n"
     ]
    },
    {
     "name": "stdout",
     "output_type": "stream",
     "text": [
      "======== LogisticRegression +  TF-IDF =================\n",
      "\n",
      "Best parameters  :  {'lr__C': 1.0, 'lr__penalty': 'l1', 'lr__solver': 'liblinear'}\n",
      "\n",
      "Best CV  score   :  0.33035357250152797\n",
      "Training score   : 0.6262904335856848\n",
      "Validation score : 0.3402025847013622\n",
      "Accuracy         : 0.3402025847013622\n",
      "MCC Score        : 0.25856269493920714\n",
      "\n",
      "              precision    recall  f1-score   support\n",
      "\n",
      "        infj       0.17      0.25      0.20        63\n",
      "        entp       0.30      0.36      0.33       223\n",
      "        intp       0.10      0.16      0.12        76\n",
      "        intj       0.31      0.31      0.31       226\n",
      "        entj       0.00      0.00      0.00        14\n",
      "        enfj       0.00      0.00      0.00        16\n",
      "        infp       0.00      0.00      0.00        13\n",
      "        enfp       0.11      0.17      0.13        29\n",
      "        isfp       0.47      0.33      0.39       485\n",
      "        istp       0.51      0.39      0.44       605\n",
      "        isfj       0.37      0.32      0.34       360\n",
      "        istj       0.41      0.41      0.41       430\n",
      "        estp       0.16      0.25      0.20        55\n",
      "        esfp       0.19      0.31      0.24        89\n",
      "        estj       0.22      0.31      0.25        68\n",
      "        esfj       0.27      0.38      0.32       111\n",
      "\n",
      "    accuracy                           0.34      2863\n",
      "   macro avg       0.22      0.25      0.23      2863\n",
      "weighted avg       0.37      0.34      0.35      2863\n",
      "\n"
     ]
    }
   ],
   "source": [
    "lr_pred, lr_proba = classifiermodel(X_train_tvec, y_train, X_val_tvec, y_val,\n",
    "                                    model=lr_gs, gs=True, param=True,\n",
    "                                    title='LogisticRegression +  TF-IDF', label=type_stopword)"
   ]
  },
  {
   "cell_type": "code",
   "execution_count": null,
   "metadata": {
    "id": "i8-FJ9Wz7Y5H"
   },
   "outputs": [],
   "source": [
    "lr_m = model_metrics(y_val, lr_pred, lr_proba, cm=False, show_df=False, title = 'Logistic Reg')"
   ]
  },
  {
   "cell_type": "code",
   "execution_count": null,
   "metadata": {
    "colab": {
     "base_uri": "https://localhost:8080/",
     "height": 639
    },
    "id": "oZCoDwky7cjj",
    "outputId": "6727c06b-3d12-4f17-eb49-56fb1333752c"
   },
   "outputs": [
    {
     "data": {
      "text/html": [
       "<div>\n",
       "<style scoped>\n",
       "    .dataframe tbody tr th:only-of-type {\n",
       "        vertical-align: middle;\n",
       "    }\n",
       "\n",
       "    .dataframe tbody tr th {\n",
       "        vertical-align: top;\n",
       "    }\n",
       "\n",
       "    .dataframe thead th {\n",
       "        text-align: right;\n",
       "    }\n",
       "</style>\n",
       "<table border=\"1\" class=\"dataframe\">\n",
       "  <thead>\n",
       "    <tr style=\"text-align: right;\">\n",
       "      <th></th>\n",
       "      <th>positive_coeff</th>\n",
       "      <th>pos_feature</th>\n",
       "      <th>negative_coeff</th>\n",
       "      <th>neg_feature</th>\n",
       "    </tr>\n",
       "  </thead>\n",
       "  <tbody>\n",
       "    <tr>\n",
       "      <th>0</th>\n",
       "      <td>40.565</td>\n",
       "      <td>eggsies</td>\n",
       "      <td>-14.984</td>\n",
       "      <td>te</td>\n",
       "    </tr>\n",
       "    <tr>\n",
       "      <th>1</th>\n",
       "      <td>23.434</td>\n",
       "      <td>dip</td>\n",
       "      <td>-14.958</td>\n",
       "      <td>literally</td>\n",
       "    </tr>\n",
       "    <tr>\n",
       "      <th>2</th>\n",
       "      <td>17.653</td>\n",
       "      <td>charisma</td>\n",
       "      <td>-8.742</td>\n",
       "      <td>perfectly</td>\n",
       "    </tr>\n",
       "    <tr>\n",
       "      <th>3</th>\n",
       "      <td>16.337</td>\n",
       "      <td>flower</td>\n",
       "      <td>-8.119</td>\n",
       "      <td>couple</td>\n",
       "    </tr>\n",
       "    <tr>\n",
       "      <th>4</th>\n",
       "      <td>16.027</td>\n",
       "      <td>fe</td>\n",
       "      <td>-7.708</td>\n",
       "      <td>order</td>\n",
       "    </tr>\n",
       "    <tr>\n",
       "      <th>5</th>\n",
       "      <td>15.848</td>\n",
       "      <td>seeker</td>\n",
       "      <td>-7.407</td>\n",
       "      <td>ways</td>\n",
       "    </tr>\n",
       "    <tr>\n",
       "      <th>6</th>\n",
       "      <td>14.440</td>\n",
       "      <td>helping</td>\n",
       "      <td>-7.205</td>\n",
       "      <td>op</td>\n",
       "    </tr>\n",
       "    <tr>\n",
       "      <th>7</th>\n",
       "      <td>14.353</td>\n",
       "      <td>jk</td>\n",
       "      <td>-6.873</td>\n",
       "      <td>respect</td>\n",
       "    </tr>\n",
       "    <tr>\n",
       "      <th>8</th>\n",
       "      <td>14.283</td>\n",
       "      <td>jawz</td>\n",
       "      <td>-6.551</td>\n",
       "      <td>watch</td>\n",
       "    </tr>\n",
       "    <tr>\n",
       "      <th>9</th>\n",
       "      <td>14.070</td>\n",
       "      <td>pack</td>\n",
       "      <td>-6.538</td>\n",
       "      <td>says</td>\n",
       "    </tr>\n",
       "    <tr>\n",
       "      <th>10</th>\n",
       "      <td>13.870</td>\n",
       "      <td>manipulate</td>\n",
       "      <td>-6.452</td>\n",
       "      <td>imo</td>\n",
       "    </tr>\n",
       "    <tr>\n",
       "      <th>11</th>\n",
       "      <td>13.608</td>\n",
       "      <td>hopeless</td>\n",
       "      <td>-6.114</td>\n",
       "      <td>came</td>\n",
       "    </tr>\n",
       "    <tr>\n",
       "      <th>12</th>\n",
       "      <td>13.494</td>\n",
       "      <td>hip</td>\n",
       "      <td>-5.571</td>\n",
       "      <td>weak</td>\n",
       "    </tr>\n",
       "    <tr>\n",
       "      <th>13</th>\n",
       "      <td>13.085</td>\n",
       "      <td>lethargic</td>\n",
       "      <td>-5.535</td>\n",
       "      <td>n</td>\n",
       "    </tr>\n",
       "    <tr>\n",
       "      <th>14</th>\n",
       "      <td>12.884</td>\n",
       "      <td>persuasion</td>\n",
       "      <td>-4.743</td>\n",
       "      <td>emotional</td>\n",
       "    </tr>\n",
       "    <tr>\n",
       "      <th>15</th>\n",
       "      <td>12.112</td>\n",
       "      <td>unhealthy</td>\n",
       "      <td>-4.722</td>\n",
       "      <td>situations</td>\n",
       "    </tr>\n",
       "    <tr>\n",
       "      <th>16</th>\n",
       "      <td>11.842</td>\n",
       "      <td>strong</td>\n",
       "      <td>-4.719</td>\n",
       "      <td>outside</td>\n",
       "    </tr>\n",
       "    <tr>\n",
       "      <th>17</th>\n",
       "      <td>10.883</td>\n",
       "      <td>xnfj</td>\n",
       "      <td>-4.269</td>\n",
       "      <td>math</td>\n",
       "    </tr>\n",
       "    <tr>\n",
       "      <th>18</th>\n",
       "      <td>10.666</td>\n",
       "      <td>violet</td>\n",
       "      <td>-4.214</td>\n",
       "      <td>si</td>\n",
       "    </tr>\n",
       "    <tr>\n",
       "      <th>19</th>\n",
       "      <td>10.457</td>\n",
       "      <td>onion</td>\n",
       "      <td>-4.116</td>\n",
       "      <td>mess</td>\n",
       "    </tr>\n",
       "  </tbody>\n",
       "</table>\n",
       "</div>"
      ],
      "text/plain": [
       "    positive_coeff pos_feature  negative_coeff neg_feature\n",
       "0           40.565     eggsies         -14.984          te\n",
       "1           23.434         dip         -14.958   literally\n",
       "2           17.653    charisma          -8.742   perfectly\n",
       "3           16.337      flower          -8.119      couple\n",
       "4           16.027          fe          -7.708       order\n",
       "5           15.848      seeker          -7.407        ways\n",
       "6           14.440     helping          -7.205          op\n",
       "7           14.353          jk          -6.873     respect\n",
       "8           14.283        jawz          -6.551       watch\n",
       "9           14.070        pack          -6.538        says\n",
       "10          13.870  manipulate          -6.452         imo\n",
       "11          13.608    hopeless          -6.114        came\n",
       "12          13.494         hip          -5.571        weak\n",
       "13          13.085   lethargic          -5.535           n\n",
       "14          12.884  persuasion          -4.743   emotional\n",
       "15          12.112   unhealthy          -4.722  situations\n",
       "16          11.842      strong          -4.719     outside\n",
       "17          10.883        xnfj          -4.269        math\n",
       "18          10.666      violet          -4.214          si\n",
       "19          10.457       onion          -4.116        mess"
      ]
     },
     "metadata": {
      "tags": []
     },
     "output_type": "display_data"
    }
   ],
   "source": [
    "show_most_informative_features(tvec, lr_gs.best_estimator_.steps[1][1], n=20)"
   ]
  },
  {
   "cell_type": "code",
   "execution_count": null,
   "metadata": {
    "colab": {
     "base_uri": "https://localhost:8080/",
     "height": 621
    },
    "id": "U_XGneSX9GGW",
    "outputId": "195d9822-3f8b-48bb-823f-9de7d47d15bd"
   },
   "outputs": [
    {
     "data": {
      "image/png": "[encoded data removed]",
      "text/plain": [
       "<Figure size 1080x720 with 1 Axes>"
      ]
     },
     "metadata": {
      "needs_background": "light",
      "tags": []
     },
     "output_type": "display_data"
    }
   ],
   "source": [
    "classes = np.unique(y_val)\n",
    "y_val_array = pd.get_dummies(y_val, drop_first=False).values\n",
    "\n",
    "cm = confusion_matrix(y_val, lr_pred)\n",
    "fig, ax = plt.subplots(figsize=(15,10))\n",
    "sns.heatmap(cm, annot=True, fmt='d', ax=ax, cmap=plt.cm.Blues, \n",
    "            cbar=False)\n",
    "ax.set(xlabel=\"Pred\", ylabel=\"True\", xticklabels=classes, \n",
    "       yticklabels=classes, title=\"Confusion matrix\")\n",
    "plt.yticks(rotation=0)\n",
    "\n",
    "plt.show();"
   ]
  },
  {
   "cell_type": "code",
   "execution_count": null,
   "metadata": {
    "id": "_NCh9ZWY9PN0"
   },
   "outputs": [],
   "source": [
    "nb_pipe = Pipeline([('smt', SMOTETomek(random_state = 42)), \n",
    "                    ('nb' , MultinomialNB())])\n",
    "\n",
    "nb_param_grid = {}\n",
    "    \n",
    "nb_gs = GridSearchCV(nb_pipe, param_grid=nb_param_grid, cv=cv, n_jobs=n_jobs, verbose=1)"
   ]
  },
  {
   "cell_type": "code",
   "execution_count": null,
   "metadata": {
    "colab": {
     "base_uri": "https://localhost:8080/"
    },
    "id": "KB6xOvqH9WWt",
    "outputId": "24f449c4-b80a-476c-d8df-cf9375e6cafd"
   },
   "outputs": [
    {
     "name": "stdout",
     "output_type": "stream",
     "text": [
      "Fitting 5 folds for each of 1 candidates, totalling 5 fits\n"
     ]
    },
    {
     "name": "stderr",
     "output_type": "stream",
     "text": [
      "[Parallel(n_jobs=-1)]: Using backend LokyBackend with 2 concurrent workers.\n",
      "/usr/local/lib/python3.7/dist-packages/joblib/externals/loky/process_executor.py:691: UserWarning: A worker stopped while some jobs were given to the executor. This can be caused by a too short worker timeout or by a memory leak.\n",
      "  \"timeout or by a memory leak.\", UserWarning\n",
      "[Parallel(n_jobs=-1)]: Done   5 out of   5 | elapsed:  6.8min finished\n",
      "/usr/local/lib/python3.7/dist-packages/sklearn/utils/deprecation.py:87: FutureWarning: Function safe_indexing is deprecated; safe_indexing is deprecated in version 0.22 and will be removed in version 0.24.\n",
      "  warnings.warn(msg, category=FutureWarning)\n"
     ]
    },
    {
     "name": "stdout",
     "output_type": "stream",
     "text": [
      "======== Naive Bayes +  TF-IDF =================\n",
      "\n",
      "Best CV  score   :  0.35151375678367563\n",
      "Training score   : 0.7964556090846524\n",
      "Validation score : 0.35522179531959486\n",
      "Accuracy         : 0.35522179531959486\n",
      "MCC Score        : 0.2622051807502345\n",
      "\n",
      "              precision    recall  f1-score   support\n",
      "\n",
      "        infj       0.18      0.22      0.20        63\n",
      "        entp       0.25      0.40      0.31       223\n",
      "        intp       0.11      0.20      0.14        76\n",
      "        intj       0.29      0.31      0.30       226\n",
      "        entj       0.00      0.00      0.00        14\n",
      "        enfj       0.00      0.00      0.00        16\n",
      "        infp       0.00      0.00      0.00        13\n",
      "        enfp       0.25      0.07      0.11        29\n",
      "        isfp       0.46      0.37      0.41       485\n",
      "        istp       0.46      0.47      0.46       605\n",
      "        isfj       0.31      0.31      0.31       360\n",
      "        istj       0.43      0.40      0.41       430\n",
      "        estp       0.22      0.20      0.21        55\n",
      "        esfp       0.24      0.18      0.21        89\n",
      "        estj       0.26      0.16      0.20        68\n",
      "        esfj       0.39      0.38      0.38       111\n",
      "\n",
      "    accuracy                           0.36      2863\n",
      "   macro avg       0.24      0.23      0.23      2863\n",
      "weighted avg       0.36      0.36      0.36      2863\n",
      "\n"
     ]
    }
   ],
   "source": [
    "nb_pred, nb_proba = classifiermodel(X_train_tvec, y_train, X_val_tvec, y_val, \n",
    "                            model=nb_gs, gs=True, param=False,\n",
    "                            title='Naive Bayes +  TF-IDF', label=type_stopword)"
   ]
  },
  {
   "cell_type": "code",
   "execution_count": null,
   "metadata": {
    "id": "l2OQA2dS9bLT"
   },
   "outputs": [],
   "source": [
    "nb_m = model_metrics(y_val, nb_pred, nb_proba, cm=False, show_df=False, title = 'Naive Bayes')"
   ]
  },
  {
   "cell_type": "code",
   "execution_count": null,
   "metadata": {
    "colab": {
     "base_uri": "https://localhost:8080/",
     "height": 639
    },
    "id": "D249OMKX9elo",
    "outputId": "64848218-dfad-4b34-d3ad-ce20d2365e64"
   },
   "outputs": [
    {
     "data": {
      "text/html": [
       "<div>\n",
       "<style scoped>\n",
       "    .dataframe tbody tr th:only-of-type {\n",
       "        vertical-align: middle;\n",
       "    }\n",
       "\n",
       "    .dataframe tbody tr th {\n",
       "        vertical-align: top;\n",
       "    }\n",
       "\n",
       "    .dataframe thead th {\n",
       "        text-align: right;\n",
       "    }\n",
       "</style>\n",
       "<table border=\"1\" class=\"dataframe\">\n",
       "  <thead>\n",
       "    <tr style=\"text-align: right;\">\n",
       "      <th></th>\n",
       "      <th>positive_coeff</th>\n",
       "      <th>pos_feature</th>\n",
       "      <th>negative_coeff</th>\n",
       "      <th>neg_feature</th>\n",
       "    </tr>\n",
       "  </thead>\n",
       "  <tbody>\n",
       "    <tr>\n",
       "      <th>0</th>\n",
       "      <td>-6.262</td>\n",
       "      <td>fe</td>\n",
       "      <td>-10.210</td>\n",
       "      <td>aaron</td>\n",
       "    </tr>\n",
       "    <tr>\n",
       "      <th>1</th>\n",
       "      <td>-6.320</td>\n",
       "      <td>haha</td>\n",
       "      <td>-10.210</td>\n",
       "      <td>abandoned</td>\n",
       "    </tr>\n",
       "    <tr>\n",
       "      <th>2</th>\n",
       "      <td>-6.461</td>\n",
       "      <td>w</td>\n",
       "      <td>-10.210</td>\n",
       "      <td>aboard</td>\n",
       "    </tr>\n",
       "    <tr>\n",
       "      <th>3</th>\n",
       "      <td>-6.588</td>\n",
       "      <td>welcome</td>\n",
       "      <td>-10.210</td>\n",
       "      <td>abrasive</td>\n",
       "    </tr>\n",
       "    <tr>\n",
       "      <th>4</th>\n",
       "      <td>-6.838</td>\n",
       "      <td>ni</td>\n",
       "      <td>-10.210</td>\n",
       "      <td>abroad</td>\n",
       "    </tr>\n",
       "    <tr>\n",
       "      <th>5</th>\n",
       "      <td>-6.911</td>\n",
       "      <td>hope</td>\n",
       "      <td>-10.210</td>\n",
       "      <td>absent</td>\n",
       "    </tr>\n",
       "    <tr>\n",
       "      <th>6</th>\n",
       "      <td>-6.995</td>\n",
       "      <td>xd</td>\n",
       "      <td>-10.210</td>\n",
       "      <td>absorbing</td>\n",
       "    </tr>\n",
       "    <tr>\n",
       "      <th>7</th>\n",
       "      <td>-7.023</td>\n",
       "      <td>hey</td>\n",
       "      <td>-10.210</td>\n",
       "      <td>abstraction</td>\n",
       "    </tr>\n",
       "    <tr>\n",
       "      <th>8</th>\n",
       "      <td>-7.049</td>\n",
       "      <td>strong</td>\n",
       "      <td>-10.210</td>\n",
       "      <td>abusive</td>\n",
       "    </tr>\n",
       "    <tr>\n",
       "      <th>9</th>\n",
       "      <td>-7.099</td>\n",
       "      <td>totally</td>\n",
       "      <td>-10.210</td>\n",
       "      <td>ac</td>\n",
       "    </tr>\n",
       "    <tr>\n",
       "      <th>10</th>\n",
       "      <td>-7.116</td>\n",
       "      <td>functions</td>\n",
       "      <td>-10.210</td>\n",
       "      <td>academics</td>\n",
       "    </tr>\n",
       "    <tr>\n",
       "      <th>11</th>\n",
       "      <td>-7.129</td>\n",
       "      <td>s</td>\n",
       "      <td>-10.210</td>\n",
       "      <td>academy</td>\n",
       "    </tr>\n",
       "    <tr>\n",
       "      <th>12</th>\n",
       "      <td>-7.142</td>\n",
       "      <td>fi</td>\n",
       "      <td>-10.210</td>\n",
       "      <td>accents</td>\n",
       "    </tr>\n",
       "    <tr>\n",
       "      <th>13</th>\n",
       "      <td>-7.167</td>\n",
       "      <td>sad</td>\n",
       "      <td>-10.210</td>\n",
       "      <td>accessible</td>\n",
       "    </tr>\n",
       "    <tr>\n",
       "      <th>14</th>\n",
       "      <td>-7.191</td>\n",
       "      <td>dear</td>\n",
       "      <td>-10.210</td>\n",
       "      <td>accidents</td>\n",
       "    </tr>\n",
       "    <tr>\n",
       "      <th>15</th>\n",
       "      <td>-7.199</td>\n",
       "      <td>situation</td>\n",
       "      <td>-10.210</td>\n",
       "      <td>accompanied</td>\n",
       "    </tr>\n",
       "    <tr>\n",
       "      <th>16</th>\n",
       "      <td>-7.220</td>\n",
       "      <td>wow</td>\n",
       "      <td>-10.210</td>\n",
       "      <td>accomplishments</td>\n",
       "    </tr>\n",
       "    <tr>\n",
       "      <th>17</th>\n",
       "      <td>-7.222</td>\n",
       "      <td>ti</td>\n",
       "      <td>-10.210</td>\n",
       "      <td>accountant</td>\n",
       "    </tr>\n",
       "    <tr>\n",
       "      <th>18</th>\n",
       "      <td>-7.234</td>\n",
       "      <td>unhealthy</td>\n",
       "      <td>-10.210</td>\n",
       "      <td>accuse</td>\n",
       "    </tr>\n",
       "    <tr>\n",
       "      <th>19</th>\n",
       "      <td>-7.244</td>\n",
       "      <td>emotions</td>\n",
       "      <td>-10.210</td>\n",
       "      <td>accusing</td>\n",
       "    </tr>\n",
       "  </tbody>\n",
       "</table>\n",
       "</div>"
      ],
      "text/plain": [
       "    positive_coeff pos_feature  negative_coeff      neg_feature\n",
       "0           -6.262          fe         -10.210            aaron\n",
       "1           -6.320        haha         -10.210        abandoned\n",
       "2           -6.461           w         -10.210           aboard\n",
       "3           -6.588     welcome         -10.210         abrasive\n",
       "4           -6.838          ni         -10.210           abroad\n",
       "5           -6.911        hope         -10.210           absent\n",
       "6           -6.995          xd         -10.210        absorbing\n",
       "7           -7.023         hey         -10.210      abstraction\n",
       "8           -7.049      strong         -10.210          abusive\n",
       "9           -7.099     totally         -10.210               ac\n",
       "10          -7.116   functions         -10.210        academics\n",
       "11          -7.129           s         -10.210          academy\n",
       "12          -7.142          fi         -10.210          accents\n",
       "13          -7.167         sad         -10.210       accessible\n",
       "14          -7.191        dear         -10.210        accidents\n",
       "15          -7.199   situation         -10.210      accompanied\n",
       "16          -7.220         wow         -10.210  accomplishments\n",
       "17          -7.222          ti         -10.210       accountant\n",
       "18          -7.234   unhealthy         -10.210           accuse\n",
       "19          -7.244    emotions         -10.210         accusing"
      ]
     },
     "metadata": {
      "tags": []
     },
     "output_type": "display_data"
    }
   ],
   "source": [
    "show_most_informative_features(tvec, nb_gs.best_estimator_.steps[1][1], n=20)"
   ]
  },
  {
   "cell_type": "code",
   "execution_count": null,
   "metadata": {
    "id": "k1x02bMi9hCc"
   },
   "outputs": [],
   "source": [
    "rf_pipe = Pipeline([('smt', SMOTETomek(random_state = 42)), \n",
    "                    ('rf', RandomForestClassifier(random_state = 42))]) \n",
    "\n",
    "rf_param_grid = {\n",
    "    'rf__n_estimators': [500], \n",
    "    'rf__max_depth': [7], \n",
    "    'rf__min_samples_split': [4] \n",
    "    }\n",
    "    \n",
    "rf_gs = GridSearchCV(rf_pipe, param_grid=rf_param_grid, cv=cv, n_jobs=n_jobs, verbose=1)"
   ]
  },
  {
   "cell_type": "code",
   "execution_count": null,
   "metadata": {
    "colab": {
     "base_uri": "https://localhost:8080/"
    },
    "id": "P1yWG7lL9kzg",
    "outputId": "4d26ef98-d2ae-4208-c517-24c21327b772"
   },
   "outputs": [
    {
     "name": "stdout",
     "output_type": "stream",
     "text": [
      "Fitting 5 folds for each of 1 candidates, totalling 5 fits\n"
     ]
    },
    {
     "name": "stderr",
     "output_type": "stream",
     "text": [
      "[Parallel(n_jobs=-1)]: Using backend LokyBackend with 2 concurrent workers.\n",
      "[Parallel(n_jobs=-1)]: Done   5 out of   5 | elapsed:  8.6min finished\n",
      "/usr/local/lib/python3.7/dist-packages/sklearn/utils/deprecation.py:87: FutureWarning: Function safe_indexing is deprecated; safe_indexing is deprecated in version 0.22 and will be removed in version 0.24.\n",
      "  warnings.warn(msg, category=FutureWarning)\n"
     ]
    },
    {
     "name": "stdout",
     "output_type": "stream",
     "text": [
      "======== Random Forest +  TF-IDF =================\n",
      "\n",
      "Best parameters  :  {'rf__max_depth': 7, 'rf__min_samples_split': 4, 'rf__n_estimators': 500}\n",
      "\n",
      "Best CV  score   :  0.23261817692092532\n",
      "Training score   : 0.5812112869924294\n",
      "Validation score : 0.2521830247991617\n",
      "Accuracy         : 0.2521830247991617\n",
      "MCC Score        : 0.1138194423911525\n",
      "\n",
      "              precision    recall  f1-score   support\n",
      "\n",
      "        infj       0.16      0.10      0.12        63\n",
      "        entp       0.16      0.04      0.06       223\n",
      "        intp       0.17      0.08      0.11        76\n",
      "        intj       0.24      0.11      0.15       226\n",
      "        entj       0.00      0.00      0.00        14\n",
      "        enfj       0.00      0.00      0.00        16\n",
      "        infp       0.00      0.00      0.00        13\n",
      "        enfp       0.11      0.07      0.08        29\n",
      "        isfp       0.29      0.20      0.23       485\n",
      "        istp       0.26      0.70      0.38       605\n",
      "        isfj       0.27      0.13      0.17       360\n",
      "        istj       0.29      0.16      0.20       430\n",
      "        estp       0.12      0.11      0.11        55\n",
      "        esfp       0.06      0.03      0.04        89\n",
      "        estj       0.30      0.29      0.30        68\n",
      "        esfj       0.16      0.14      0.15       111\n",
      "\n",
      "    accuracy                           0.25      2863\n",
      "   macro avg       0.16      0.13      0.13      2863\n",
      "weighted avg       0.24      0.25      0.21      2863\n",
      "\n",
      "CPU times: user 3min 6s, sys: 1.28 s, total: 3min 7s\n",
      "Wall time: 11min 39s\n"
     ]
    },
    {
     "name": "stderr",
     "output_type": "stream",
     "text": [
      "/usr/local/lib/python3.7/dist-packages/sklearn/metrics/_classification.py:1272: UndefinedMetricWarning: Precision and F-score are ill-defined and being set to 0.0 in labels with no predicted samples. Use `zero_division` parameter to control this behavior.\n",
      "  _warn_prf(average, modifier, msg_start, len(result))\n"
     ]
    }
   ],
   "source": [
    "%%time\n",
    "rf_pred, rf_proba = classifiermodel(X_train_tvec, y_train, X_val_tvec, y_val, \n",
    "                            model=rf_gs, gs=True, param=True,\n",
    "                            title='Random Forest +  TF-IDF', label=type_stopword)"
   ]
  },
  {
   "cell_type": "code",
   "execution_count": null,
   "metadata": {
    "id": "lcopg33r9n98"
   },
   "outputs": [],
   "source": [
    "rf_m = model_metrics(y_val, rf_pred, rf_proba, cm=False, show_df=False, title = 'Random Forest')"
   ]
  },
  {
   "cell_type": "code",
   "execution_count": null,
   "metadata": {
    "colab": {
     "base_uri": "https://localhost:8080/",
     "height": 195
    },
    "id": "5lmIUjaE9qxZ",
    "outputId": "eea74ec6-c451-4a43-f452-03e771092319"
   },
   "outputs": [
    {
     "data": {
      "text/html": [
       "<div>\n",
       "<style scoped>\n",
       "    .dataframe tbody tr th:only-of-type {\n",
       "        vertical-align: middle;\n",
       "    }\n",
       "\n",
       "    .dataframe tbody tr th {\n",
       "        vertical-align: top;\n",
       "    }\n",
       "\n",
       "    .dataframe thead th {\n",
       "        text-align: right;\n",
       "    }\n",
       "</style>\n",
       "<table border=\"1\" class=\"dataframe\">\n",
       "  <thead>\n",
       "    <tr style=\"text-align: right;\">\n",
       "      <th></th>\n",
       "      <th>Random Forest</th>\n",
       "    </tr>\n",
       "  </thead>\n",
       "  <tbody>\n",
       "    <tr>\n",
       "      <th>Accuracy</th>\n",
       "      <td>0.252</td>\n",
       "    </tr>\n",
       "    <tr>\n",
       "      <th>Misclassification Rate</th>\n",
       "      <td>0.748</td>\n",
       "    </tr>\n",
       "    <tr>\n",
       "      <th>F1-Score Macro</th>\n",
       "      <td>0.132</td>\n",
       "    </tr>\n",
       "    <tr>\n",
       "      <th>F1-Score Weighted</th>\n",
       "      <td>0.212</td>\n",
       "    </tr>\n",
       "    <tr>\n",
       "      <th>Matthews Correlation</th>\n",
       "      <td>0.114</td>\n",
       "    </tr>\n",
       "  </tbody>\n",
       "</table>\n",
       "</div>"
      ],
      "text/plain": [
       "                        Random Forest\n",
       "Accuracy                        0.252\n",
       "Misclassification Rate          0.748\n",
       "F1-Score Macro                  0.132\n",
       "F1-Score Weighted               0.212\n",
       "Matthews Correlation            0.114"
      ]
     },
     "execution_count": 35,
     "metadata": {
      "tags": []
     },
     "output_type": "execute_result"
    }
   ],
   "source": [
    "rf_m"
   ]
  },
  {
   "cell_type": "code",
   "execution_count": null,
   "metadata": {
    "colab": {
     "base_uri": "https://localhost:8080/",
     "height": 402
    },
    "id": "75y-OoGl9tRm",
    "outputId": "c2385049-7faf-4ebd-b5bc-2e93802bd16c"
   },
   "outputs": [
    {
     "data": {
      "text/html": [
       "<div>\n",
       "<style scoped>\n",
       "    .dataframe tbody tr th:only-of-type {\n",
       "        vertical-align: middle;\n",
       "    }\n",
       "\n",
       "    .dataframe tbody tr th {\n",
       "        vertical-align: top;\n",
       "    }\n",
       "\n",
       "    .dataframe thead th {\n",
       "        text-align: right;\n",
       "    }\n",
       "</style>\n",
       "<table border=\"1\" class=\"dataframe\">\n",
       "  <thead>\n",
       "    <tr style=\"text-align: right;\">\n",
       "      <th></th>\n",
       "      <th>feature</th>\n",
       "      <th>feature_importance</th>\n",
       "    </tr>\n",
       "  </thead>\n",
       "  <tbody>\n",
       "    <tr>\n",
       "      <th>7847</th>\n",
       "      <td>sela</td>\n",
       "      <td>0.008</td>\n",
       "    </tr>\n",
       "    <tr>\n",
       "      <th>5997</th>\n",
       "      <td>niss</td>\n",
       "      <td>0.007</td>\n",
       "    </tr>\n",
       "    <tr>\n",
       "      <th>8911</th>\n",
       "      <td>teddy</td>\n",
       "      <td>0.006</td>\n",
       "    </tr>\n",
       "    <tr>\n",
       "      <th>4210</th>\n",
       "      <td>hobbit</td>\n",
       "      <td>0.006</td>\n",
       "    </tr>\n",
       "    <tr>\n",
       "      <th>7172</th>\n",
       "      <td>rant</td>\n",
       "      <td>0.005</td>\n",
       "    </tr>\n",
       "    <tr>\n",
       "      <th>...</th>\n",
       "      <td>...</td>\n",
       "      <td>...</td>\n",
       "    </tr>\n",
       "    <tr>\n",
       "      <th>5015</th>\n",
       "      <td>knocked</td>\n",
       "      <td>0.000</td>\n",
       "    </tr>\n",
       "    <tr>\n",
       "      <th>5011</th>\n",
       "      <td>knit</td>\n",
       "      <td>0.000</td>\n",
       "    </tr>\n",
       "    <tr>\n",
       "      <th>5010</th>\n",
       "      <td>knights</td>\n",
       "      <td>0.000</td>\n",
       "    </tr>\n",
       "    <tr>\n",
       "      <th>5009</th>\n",
       "      <td>knight</td>\n",
       "      <td>0.000</td>\n",
       "    </tr>\n",
       "    <tr>\n",
       "      <th>5000</th>\n",
       "      <td>kittens</td>\n",
       "      <td>0.000</td>\n",
       "    </tr>\n",
       "  </tbody>\n",
       "</table>\n",
       "<p>10000 rows × 2 columns</p>\n",
       "</div>"
      ],
      "text/plain": [
       "      feature  feature_importance\n",
       "7847     sela               0.008\n",
       "5997     niss               0.007\n",
       "8911    teddy               0.006\n",
       "4210   hobbit               0.006\n",
       "7172     rant               0.005\n",
       "...       ...                 ...\n",
       "5015  knocked               0.000\n",
       "5011     knit               0.000\n",
       "5010  knights               0.000\n",
       "5009   knight               0.000\n",
       "5000  kittens               0.000\n",
       "\n",
       "[10000 rows x 2 columns]"
      ]
     },
     "execution_count": 36,
     "metadata": {
      "tags": []
     },
     "output_type": "execute_result"
    }
   ],
   "source": [
    "rf_feature_importance = rf_gs.best_estimator_.steps[1][1].feature_importances_\n",
    "\n",
    "rf_features_df = pd.DataFrame({'feature': tvec.get_feature_names(), \n",
    "                            'feature_importance': rf_feature_importance}).sort_values('feature_importance', ascending=False)\n",
    "rf_features_df"
   ]
  },
  {
   "cell_type": "code",
   "execution_count": null,
   "metadata": {
    "id": "B7Voj3vj9x4Y"
   },
   "outputs": [],
   "source": [
    "xgb_pipe = Pipeline([('smt', SMOTETomek(random_state = 42)), \n",
    "                    ('xgb', XGBClassifier(random_state = 42))]) \n",
    "xgb_param_grid = {\n",
    "    'xgb__eval_metric' : ['merror'], \n",
    "    'xgb__subsample' : [0.5], \n",
    "    'xgb__colsample_bytree' : [0.5], \n",
    "    'xgb__learning_rate' : [.01], \n",
    "    'xgb__n_estimators' : [100], \n",
    "    'xgb__reg_alpha' : [0.01], \n",
    "    'xgb__gamma' : [0.1], \n",
    "}\n",
    "    \n",
    "xgb_gs = GridSearchCV(xgb_pipe, param_grid=xgb_param_grid, cv=cv, n_jobs=n_jobs, verbose=1)"
   ]
  },
  {
   "cell_type": "code",
   "execution_count": null,
   "metadata": {
    "colab": {
     "base_uri": "https://localhost:8080/",
     "height": 52
    },
    "id": "A2XoTS3-91lL",
    "outputId": "9f6b5fa0-403e-4e75-c63f-9fd7726d5634"
   },
   "outputs": [
    {
     "data": {
      "application/vnd.google.colaboratory.intrinsic+json": {
       "type": "string"
      },
      "text/plain": [
       "\"\\n%%time\\nxgb_pred, xgb_proba = classifiermodel(X_train_tvec, y_train, X_val_tvec, y_val, \\n                            model=xgb_gs, gs=True, param=True,\\n                            title='XGBoost +  TF-IDF', label=type_stopword)\\n\""
      ]
     },
     "execution_count": 38,
     "metadata": {
      "tags": []
     },
     "output_type": "execute_result"
    }
   ],
   "source": [
    "'''\n",
    "%%time\n",
    "xgb_pred, xgb_proba = classifiermodel(X_train_tvec, y_train, X_val_tvec, y_val, \n",
    "                            model=xgb_gs, gs=True, param=True,\n",
    "                            title='XGBoost +  TF-IDF', label=type_stopword)\n",
    "'''"
   ]
  },
  {
   "cell_type": "code",
   "execution_count": null,
   "metadata": {
    "colab": {
     "base_uri": "https://localhost:8080/",
     "height": 195
    },
    "id": "2lq5w33f9_6j",
    "outputId": "cb7dfb93-e84c-4a30-ef0d-1660538aee28"
   },
   "outputs": [
    {
     "data": {
      "text/html": [
       "<div>\n",
       "<style scoped>\n",
       "    .dataframe tbody tr th:only-of-type {\n",
       "        vertical-align: middle;\n",
       "    }\n",
       "\n",
       "    .dataframe tbody tr th {\n",
       "        vertical-align: top;\n",
       "    }\n",
       "\n",
       "    .dataframe thead th {\n",
       "        text-align: right;\n",
       "    }\n",
       "</style>\n",
       "<table border=\"1\" class=\"dataframe\">\n",
       "  <thead>\n",
       "    <tr style=\"text-align: right;\">\n",
       "      <th></th>\n",
       "      <th>Logistic Reg</th>\n",
       "      <th>Naive Bayes</th>\n",
       "      <th>Random Forest</th>\n",
       "    </tr>\n",
       "  </thead>\n",
       "  <tbody>\n",
       "    <tr>\n",
       "      <th>Accuracy</th>\n",
       "      <td>0.340</td>\n",
       "      <td>0.355</td>\n",
       "      <td>0.252</td>\n",
       "    </tr>\n",
       "    <tr>\n",
       "      <th>Misclassification Rate</th>\n",
       "      <td>0.660</td>\n",
       "      <td>0.645</td>\n",
       "      <td>0.748</td>\n",
       "    </tr>\n",
       "    <tr>\n",
       "      <th>F1-Score Macro</th>\n",
       "      <td>0.229</td>\n",
       "      <td>0.228</td>\n",
       "      <td>0.132</td>\n",
       "    </tr>\n",
       "    <tr>\n",
       "      <th>F1-Score Weighted</th>\n",
       "      <td>0.351</td>\n",
       "      <td>0.356</td>\n",
       "      <td>0.212</td>\n",
       "    </tr>\n",
       "    <tr>\n",
       "      <th>Matthews Correlation</th>\n",
       "      <td>0.259</td>\n",
       "      <td>0.262</td>\n",
       "      <td>0.114</td>\n",
       "    </tr>\n",
       "  </tbody>\n",
       "</table>\n",
       "</div>"
      ],
      "text/plain": [
       "                        Logistic Reg  Naive Bayes  Random Forest\n",
       "Accuracy                       0.340        0.355          0.252\n",
       "Misclassification Rate         0.660        0.645          0.748\n",
       "F1-Score Macro                 0.229        0.228          0.132\n",
       "F1-Score Weighted              0.351        0.356          0.212\n",
       "Matthews Correlation           0.259        0.262          0.114"
      ]
     },
     "execution_count": 41,
     "metadata": {
      "tags": []
     },
     "output_type": "execute_result"
    }
   ],
   "source": [
    "lst_metrics = [lr_m, nb_m, rf_m]\n",
    "combine_metrics = pd.concat((items for items in lst_metrics), axis=1, join='inner')\n",
    "combine_metrics.reset_index().rename(columns={combine_metrics.index.name:'metrics'})  \n",
    "\n",
    "combine_metrics"
   ]
  }
 ],
 "metadata": {
  "colab": {
   "collapsed_sections": [],
   "name": "29042021 Personality Prediction Part2.ipynb",
   "provenance": []
  },
  "kernelspec": {
   "display_name": "Python 3",
   "language": "python",
   "name": "python3"
  },
  "language_info": {
   "codemirror_mode": {
    "name": "ipython",
    "version": 3
   },
   "file_extension": ".py",
   "mimetype": "text/x-python",
   "name": "python",
   "nbconvert_exporter": "python",
   "pygments_lexer": "ipython3",
   "version": "3.8.5"
  }
 },
 "nbformat": 4,
 "nbformat_minor": 1
}
